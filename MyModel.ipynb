{
 "cells": [
  {
   "cell_type": "markdown",
   "id": "e8befc87-36f9-4308-94a3-1f4d5dc68277",
   "metadata": {},
   "source": [
    "# Product Recommendation System Using CNN"
   ]
  },
  {
   "cell_type": "markdown",
   "id": "0f6c7c70-540a-4a31-acb7-26c030c24650",
   "metadata": {},
   "source": [
    "**dataset** - https://www.kaggle.com/datasets/paramaggarwal/fashion-product-images-small"
   ]
  },
  {
   "cell_type": "code",
   "execution_count": 1,
   "id": "0089540a-4ad6-4f71-b044-a40c29f3ad61",
   "metadata": {},
   "outputs": [],
   "source": [
    "import tensorflow\n",
    "from tensorflow.keras.preprocessing import image\n",
    "from tensorflow.keras.layers import GlobalMaxPooling2D\n",
    "from tensorflow.keras.applications.resnet50 import ResNet50,preprocess_input\n",
    "import numpy as np\n",
    "from numpy.linalg import norm\n",
    "import os\n",
    "from tqdm import tqdm\n",
    "import pickle\n",
    "from sklearn.neighbors import NearestNeighbors\n",
    "import cv2\n",
    "from IPython.display import Image\n",
    "from matplotlib import pyplot as plt"
   ]
  },
  {
   "cell_type": "markdown",
   "id": "500afc15-22a3-482f-b0c7-5d815dfc8dfe",
   "metadata": {},
   "source": [
    "**create ResNet50 CNN model**"
   ]
  },
  {
   "cell_type": "code",
   "execution_count": 2,
   "id": "090f9371-e631-4948-a065-6c030a5d3a52",
   "metadata": {},
   "outputs": [],
   "source": [
    "model = ResNet50(weights='imagenet',include_top=False,input_shape=(224,224,3))\n",
    "model.trainable = False"
   ]
  },
  {
   "cell_type": "code",
   "execution_count": 3,
   "id": "e95bad79-4154-48c8-9875-70d5bf513095",
   "metadata": {},
   "outputs": [],
   "source": [
    "model = tensorflow.keras.Sequential([\n",
    "    model,\n",
    "    GlobalMaxPooling2D()\n",
    "])"
   ]
  },
  {
   "cell_type": "markdown",
   "id": "64037a86-a51b-479e-8901-a0064a5846ed",
   "metadata": {},
   "source": [
    "**extract features**"
   ]
  },
  {
   "cell_type": "code",
   "execution_count": 4,
   "id": "22207dfc-c17a-4b93-a8d6-97d6b1170908",
   "metadata": {},
   "outputs": [],
   "source": [
    "def extract_features(img_path,model):\n",
    "    img = image.load_img(img_path,target_size=(224,224))\n",
    "    img_array = image.img_to_array(img)\n",
    "    expanded_img_array = np.expand_dims(img_array, axis=0)\n",
    "    preprocessed_img = preprocess_input(expanded_img_array)\n",
    "    result = model.predict(preprocessed_img).flatten()\n",
    "    normalized_result = result / norm(result)\n",
    "\n",
    "    return normalized_result"
   ]
  },
  {
   "cell_type": "code",
   "execution_count": 5,
   "id": "87b4b575-59dc-4cd9-9714-d4fea4b27420",
   "metadata": {},
   "outputs": [],
   "source": [
    "filenames = []\n",
    "\n",
    "for file in os.listdir('images'):\n",
    "    filenames.append(os.path.join('images',file))"
   ]
  },
  {
   "cell_type": "markdown",
   "id": "a3dcd403-b7c2-4cb4-815e-c1d5091b4754",
   "metadata": {},
   "source": [
    "uncomment and run\n",
    "\n",
    "it will take more than an hour (with GPU) to extract feacture of 44441 product images"
   ]
  },
  {
   "cell_type": "code",
   "execution_count": 6,
   "id": "614be7c8-e7a0-49ea-b6f2-0661a513cf43",
   "metadata": {},
   "outputs": [],
   "source": [
    "feature_list = []\n",
    "\n",
    "for file in tqdm(filenames):\n",
    "    feature_list.append(extract_features(file,model))"
   ]
  },
  {
   "cell_type": "markdown",
   "id": "789b13aa-1604-4704-bc3f-6174b3e281b1",
   "metadata": {},
   "source": [
    "**export feature**"
   ]
  },
  {
   "cell_type": "code",
   "execution_count": 7,
   "id": "6bbbabaa-1992-4610-9412-bdcb18d573d6",
   "metadata": {},
   "outputs": [],
   "source": [
    "pickle.dump(feature_list,open('embeddings.pkl','wb'))\n",
    "pickle.dump(filenames,open('filenames.pkl','wb'))"
   ]
  },
  {
   "cell_type": "code",
   "execution_count": null,
   "id": "d1d7a5f7-d6b5-42a1-905c-341e153d66c3",
   "metadata": {},
   "outputs": [],
   "source": []
  }
 ],
 "metadata": {
  "kernelspec": {
   "display_name": "Python 3 (ipykernel)",
   "language": "python",
   "name": "python3"
  },
  "language_info": {
   "codemirror_mode": {
    "name": "ipython",
    "version": 3
   },
   "file_extension": ".py",
   "mimetype": "text/x-python",
   "name": "python",
   "nbconvert_exporter": "python",
   "pygments_lexer": "ipython3",
   "version": "3.10.6"
  }
 },
 "nbformat": 4,
 "nbformat_minor": 5
}
